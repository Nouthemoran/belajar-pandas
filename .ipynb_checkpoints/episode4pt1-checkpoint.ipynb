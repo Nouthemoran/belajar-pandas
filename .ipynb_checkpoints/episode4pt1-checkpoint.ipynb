{
 "cells": [
  {
   "cell_type": "code",
   "execution_count": 3,
   "id": "071a1f8d-9240-47f9-8f8c-eef89dcc905c",
   "metadata": {},
   "outputs": [],
   "source": [
    "import numpy as np\n",
    "import pandas as pd"
   ]
  },
  {
   "cell_type": "code",
   "execution_count": 5,
   "id": "0387f63a-014e-442b-8121-b2e0bc690b41",
   "metadata": {},
   "outputs": [],
   "source": [
    "label = ['satu','dua','tiga'] "
   ]
  },
  {
   "cell_type": "code",
   "execution_count": 13,
   "id": "6330a8a6-866d-40d3-8cc2-ee7e4be1b7e5",
   "metadata": {},
   "outputs": [],
   "source": [
    "angka = [10,20,30] # list "
   ]
  },
  {
   "cell_type": "code",
   "execution_count": 14,
   "id": "5c3cc2c0-dd6a-41a1-b72c-cdec0b36fae6",
   "metadata": {},
   "outputs": [
    {
     "data": {
      "text/plain": [
       "list"
      ]
     },
     "execution_count": 14,
     "metadata": {},
     "output_type": "execute_result"
    }
   ],
   "source": [
    "no_angka = np.array(angka) "
   ]
  },
  {
   "cell_type": "code",
   "execution_count": 16,
   "id": "66f5363b-e6c8-44ab-961a-34394854d81b",
   "metadata": {},
   "outputs": [
    {
     "data": {
      "text/plain": [
       "array([10, 20, 30])"
      ]
     },
     "execution_count": 16,
     "metadata": {},
     "output_type": "execute_result"
    }
   ],
   "source": [
    "no_angka # type nya numpy.array"
   ]
  },
  {
   "cell_type": "code",
   "execution_count": 18,
   "id": "c3838337-5215-4b64-b766-182f833265c0",
   "metadata": {},
   "outputs": [
    {
     "data": {
      "text/plain": [
       "numpy.ndarray"
      ]
     },
     "execution_count": 18,
     "metadata": {},
     "output_type": "execute_result"
    }
   ],
   "source": [
    "type(no_angka)"
   ]
  },
  {
   "cell_type": "code",
   "execution_count": 19,
   "id": "3a75d62b-6c4e-4f17-8da0-f7cc21e5396b",
   "metadata": {},
   "outputs": [],
   "source": [
    "d = { 'satu':10, 'dua':20, 'tiga':30} "
   ]
  },
  {
   "cell_type": "code",
   "execution_count": 29,
   "id": "f79ca7bc-4fba-426a-b8c4-1a2add92786c",
   "metadata": {},
   "outputs": [],
   "source": [
    "dataku = pd.Series(data=angka, index=label) #klo angka biasa itu int64,\n",
    "# klo no_angka int32"
   ]
  },
  {
   "cell_type": "code",
   "execution_count": 30,
   "id": "d999e547-5963-45ea-9d7d-bb6ec8cd84f3",
   "metadata": {},
   "outputs": [
    {
     "data": {
      "text/plain": [
       "10"
      ]
     },
     "execution_count": 30,
     "metadata": {},
     "output_type": "execute_result"
    }
   ],
   "source": [
    "dataku['satu']"
   ]
  },
  {
   "cell_type": "code",
   "execution_count": 34,
   "id": "62869373-22fb-4ade-82f3-8e6951d75200",
   "metadata": {},
   "outputs": [
    {
     "data": {
      "text/plain": [
       "10"
      ]
     },
     "execution_count": 34,
     "metadata": {},
     "output_type": "execute_result"
    }
   ],
   "source": [
    "no_angka[0]\n",
    "angka[0]"
   ]
  },
  {
   "cell_type": "code",
   "execution_count": 35,
   "id": "c56ade73-7e67-45b7-8d93-4ad0f139b997",
   "metadata": {},
   "outputs": [
    {
     "data": {
      "text/plain": [
       "satu    10\n",
       "dua     20\n",
       "tiga    30\n",
       "dtype: int64"
      ]
     },
     "execution_count": 35,
     "metadata": {},
     "output_type": "execute_result"
    }
   ],
   "source": [
    "pd.Series(d)"
   ]
  },
  {
   "cell_type": "code",
   "execution_count": 36,
   "id": "ac35f2d8-3888-4382-9dd1-d7a51fd12385",
   "metadata": {},
   "outputs": [
    {
     "data": {
      "text/plain": [
       "0    10\n",
       "1    20\n",
       "2    30\n",
       "dtype: int32"
      ]
     },
     "execution_count": 36,
     "metadata": {},
     "output_type": "execute_result"
    }
   ],
   "source": [
    "pd.Series(no_angka)"
   ]
  },
  {
   "cell_type": "code",
   "execution_count": 43,
   "id": "e1b59ecb-7c0c-4f9b-9d33-d6f26cba6b0a",
   "metadata": {},
   "outputs": [
    {
     "ename": "AttributeError",
     "evalue": "'DataFrame' object has no attribute 'to_frame'",
     "output_type": "error",
     "traceback": [
      "\u001b[1;31m---------------------------------------------------------------------------\u001b[0m",
      "\u001b[1;31mAttributeError\u001b[0m                            Traceback (most recent call last)",
      "\u001b[1;32m~\\AppData\\Local\\Temp\\ipykernel_10880\\1074195530.py\u001b[0m in \u001b[0;36m?\u001b[1;34m()\u001b[0m\n\u001b[1;32m----> 1\u001b[1;33m \u001b[0mdataku\u001b[0m \u001b[1;33m=\u001b[0m \u001b[0mdataku\u001b[0m\u001b[1;33m.\u001b[0m\u001b[0mto_frame\u001b[0m\u001b[1;33m(\u001b[0m\u001b[1;33m)\u001b[0m\u001b[1;33m\u001b[0m\u001b[1;33m\u001b[0m\u001b[0m\n\u001b[0m",
      "\u001b[1;32mD:\\project\\python-project\\env\\Lib\\site-packages\\pandas\\core\\generic.py\u001b[0m in \u001b[0;36m?\u001b[1;34m(self, name)\u001b[0m\n\u001b[0;32m   5985\u001b[0m             \u001b[1;32mand\u001b[0m \u001b[0mname\u001b[0m \u001b[1;32mnot\u001b[0m \u001b[1;32min\u001b[0m \u001b[0mself\u001b[0m\u001b[1;33m.\u001b[0m\u001b[0m_accessors\u001b[0m\u001b[1;33m\u001b[0m\u001b[1;33m\u001b[0m\u001b[0m\n\u001b[0;32m   5986\u001b[0m             \u001b[1;32mand\u001b[0m \u001b[0mself\u001b[0m\u001b[1;33m.\u001b[0m\u001b[0m_info_axis\u001b[0m\u001b[1;33m.\u001b[0m\u001b[0m_can_hold_identifiers_and_holds_name\u001b[0m\u001b[1;33m(\u001b[0m\u001b[0mname\u001b[0m\u001b[1;33m)\u001b[0m\u001b[1;33m\u001b[0m\u001b[1;33m\u001b[0m\u001b[0m\n\u001b[0;32m   5987\u001b[0m         ):\n\u001b[0;32m   5988\u001b[0m             \u001b[1;32mreturn\u001b[0m \u001b[0mself\u001b[0m\u001b[1;33m[\u001b[0m\u001b[0mname\u001b[0m\u001b[1;33m]\u001b[0m\u001b[1;33m\u001b[0m\u001b[1;33m\u001b[0m\u001b[0m\n\u001b[1;32m-> 5989\u001b[1;33m         \u001b[1;32mreturn\u001b[0m \u001b[0mobject\u001b[0m\u001b[1;33m.\u001b[0m\u001b[0m__getattribute__\u001b[0m\u001b[1;33m(\u001b[0m\u001b[0mself\u001b[0m\u001b[1;33m,\u001b[0m \u001b[0mname\u001b[0m\u001b[1;33m)\u001b[0m\u001b[1;33m\u001b[0m\u001b[1;33m\u001b[0m\u001b[0m\n\u001b[0m",
      "\u001b[1;31mAttributeError\u001b[0m: 'DataFrame' object has no attribute 'to_frame'"
     ]
    }
   ],
   "source": [
    "dataku = dataku.to_frame()"
   ]
  },
  {
   "cell_type": "code",
   "execution_count": 42,
   "id": "2ee8ccc6-cbf5-4a83-83a8-8a2817a6a640",
   "metadata": {},
   "outputs": [
    {
     "data": {
      "text/html": [
       "<div>\n",
       "<style scoped>\n",
       "    .dataframe tbody tr th:only-of-type {\n",
       "        vertical-align: middle;\n",
       "    }\n",
       "\n",
       "    .dataframe tbody tr th {\n",
       "        vertical-align: top;\n",
       "    }\n",
       "\n",
       "    .dataframe thead th {\n",
       "        text-align: right;\n",
       "    }\n",
       "</style>\n",
       "<table border=\"1\" class=\"dataframe\">\n",
       "  <thead>\n",
       "    <tr style=\"text-align: right;\">\n",
       "      <th></th>\n",
       "      <th>0</th>\n",
       "    </tr>\n",
       "  </thead>\n",
       "  <tbody>\n",
       "    <tr>\n",
       "      <th>satu</th>\n",
       "      <td>10</td>\n",
       "    </tr>\n",
       "    <tr>\n",
       "      <th>dua</th>\n",
       "      <td>20</td>\n",
       "    </tr>\n",
       "    <tr>\n",
       "      <th>tiga</th>\n",
       "      <td>30</td>\n",
       "    </tr>\n",
       "  </tbody>\n",
       "</table>\n",
       "</div>"
      ],
      "text/plain": [
       "       0\n",
       "satu  10\n",
       "dua   20\n",
       "tiga  30"
      ]
     },
     "execution_count": 42,
     "metadata": {},
     "output_type": "execute_result"
    }
   ],
   "source": [
    "dataku\n"
   ]
  },
  {
   "cell_type": "code",
   "execution_count": 44,
   "id": "cb5ae2f1-1e49-4c9f-bb51-878887c95eeb",
   "metadata": {},
   "outputs": [
    {
     "data": {
      "text/plain": [
       "pandas.core.frame.DataFrame"
      ]
     },
     "execution_count": 44,
     "metadata": {},
     "output_type": "execute_result"
    }
   ],
   "source": [
    "type(dataku)"
   ]
  },
  {
   "cell_type": "code",
   "execution_count": 45,
   "id": "fc032bca-9ade-461c-86ec-f0d3bc4684c4",
   "metadata": {},
   "outputs": [],
   "source": [
    "d2 = { 'satu':10, 'dua':20, 'tiga':30, 'empat':40, 'lima':50} \n"
   ]
  },
  {
   "cell_type": "code",
   "execution_count": 49,
   "id": "d6745850-1bae-4e90-98c4-0a3bb1b23eac",
   "metadata": {},
   "outputs": [],
   "source": [
    "dataku = pd.Series(d)"
   ]
  },
  {
   "cell_type": "code",
   "execution_count": 50,
   "id": "d0f2c07b-6ed8-4fb3-8d1a-8762bff6300b",
   "metadata": {},
   "outputs": [],
   "source": [
    "dataku2 = pd.Series(d2)"
   ]
  },
  {
   "cell_type": "code",
   "execution_count": 51,
   "id": "7c43e3a4-5233-44e2-b393-b8936f274ea5",
   "metadata": {},
   "outputs": [
    {
     "data": {
      "text/plain": [
       "satu    10\n",
       "dua     20\n",
       "tiga    30\n",
       "dtype: int64"
      ]
     },
     "execution_count": 51,
     "metadata": {},
     "output_type": "execute_result"
    }
   ],
   "source": [
    "dataku"
   ]
  },
  {
   "cell_type": "code",
   "execution_count": 52,
   "id": "d1cc6a06-4478-43b1-9974-cda67233e172",
   "metadata": {},
   "outputs": [
    {
     "data": {
      "text/plain": [
       "satu     10\n",
       "dua      20\n",
       "tiga     30\n",
       "empat    40\n",
       "lima     50\n",
       "dtype: int64"
      ]
     },
     "execution_count": 52,
     "metadata": {},
     "output_type": "execute_result"
    }
   ],
   "source": [
    "dataku2"
   ]
  },
  {
   "cell_type": "code",
   "execution_count": 53,
   "id": "f0773a20-7dd0-4df3-a5bb-d8a90f7059d8",
   "metadata": {},
   "outputs": [
    {
     "data": {
      "text/plain": [
       "dua      40.0\n",
       "empat     NaN\n",
       "lima      NaN\n",
       "satu     20.0\n",
       "tiga     60.0\n",
       "dtype: float64"
      ]
     },
     "execution_count": 53,
     "metadata": {},
     "output_type": "execute_result"
    }
   ],
   "source": [
    "dataku + dataku2"
   ]
  },
  {
   "cell_type": "code",
   "execution_count": 54,
   "id": "e51b6efc-a164-49cf-a232-ff193c48843d",
   "metadata": {},
   "outputs": [],
   "source": [
    "# klo ada menjumlah kan antar Series gini dtype nya dri int jdi float"
   ]
  },
  {
   "cell_type": "code",
   "execution_count": 55,
   "id": "f76c2294-4cc9-4c44-a479-0011805c0ff6",
   "metadata": {},
   "outputs": [],
   "source": []
  },
  {
   "cell_type": "code",
   "execution_count": null,
   "id": "03878798-1944-46d8-a1c0-2ac949b5337c",
   "metadata": {},
   "outputs": [],
   "source": []
  }
 ],
 "metadata": {
  "kernelspec": {
   "display_name": "Python 3 (ipykernel)",
   "language": "python",
   "name": "python3"
  },
  "language_info": {
   "codemirror_mode": {
    "name": "ipython",
    "version": 3
   },
   "file_extension": ".py",
   "mimetype": "text/x-python",
   "name": "python",
   "nbconvert_exporter": "python",
   "pygments_lexer": "ipython3",
   "version": "3.11.4"
  }
 },
 "nbformat": 4,
 "nbformat_minor": 5
}
