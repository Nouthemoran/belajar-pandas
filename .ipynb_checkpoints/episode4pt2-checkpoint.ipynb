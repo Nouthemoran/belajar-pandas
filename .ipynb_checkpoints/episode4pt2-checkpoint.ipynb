{
 "cells": [
  {
   "cell_type": "code",
   "execution_count": 1,
   "id": "d46c7f8c-1828-4ff3-bb7a-985e77375cdf",
   "metadata": {},
   "outputs": [],
   "source": [
    "import numpy as np\n",
    "import pandas as pd"
   ]
  },
  {
   "cell_type": "code",
   "execution_count": 2,
   "id": "70e8ac31-2c12-4a94-a31c-578a64df0e69",
   "metadata": {},
   "outputs": [],
   "source": [
    "np.random.seed(100)"
   ]
  },
  {
   "cell_type": "code",
   "execution_count": 39,
   "id": "1a681609-e28e-48e9-a946-c2633c199195",
   "metadata": {},
   "outputs": [],
   "source": [
    "dataku = pd.DataFrame(np.random.randn(4,5), ['A','B','C','D'],['satu','dua','tiga','empat','lima'])\n",
    "# randn(rows,column) <- random angka, [list rows] <- index, [list column]"
   ]
  },
  {
   "cell_type": "code",
   "execution_count": 40,
   "id": "e66dfa65-3d47-4bc8-a431-9350bf90c0fc",
   "metadata": {},
   "outputs": [
    {
     "data": {
      "text/html": [
       "<div>\n",
       "<style scoped>\n",
       "    .dataframe tbody tr th:only-of-type {\n",
       "        vertical-align: middle;\n",
       "    }\n",
       "\n",
       "    .dataframe tbody tr th {\n",
       "        vertical-align: top;\n",
       "    }\n",
       "\n",
       "    .dataframe thead th {\n",
       "        text-align: right;\n",
       "    }\n",
       "</style>\n",
       "<table border=\"1\" class=\"dataframe\">\n",
       "  <thead>\n",
       "    <tr style=\"text-align: right;\">\n",
       "      <th></th>\n",
       "      <th>satu</th>\n",
       "      <th>dua</th>\n",
       "      <th>tiga</th>\n",
       "      <th>empat</th>\n",
       "      <th>lima</th>\n",
       "    </tr>\n",
       "  </thead>\n",
       "  <tbody>\n",
       "    <tr>\n",
       "      <th>A</th>\n",
       "      <td>-1.497720</td>\n",
       "      <td>-1.193886</td>\n",
       "      <td>1.296263</td>\n",
       "      <td>0.952276</td>\n",
       "      <td>-1.217254</td>\n",
       "    </tr>\n",
       "    <tr>\n",
       "      <th>B</th>\n",
       "      <td>-0.157265</td>\n",
       "      <td>-1.507585</td>\n",
       "      <td>0.107884</td>\n",
       "      <td>0.747056</td>\n",
       "      <td>0.429676</td>\n",
       "    </tr>\n",
       "    <tr>\n",
       "      <th>C</th>\n",
       "      <td>-1.415043</td>\n",
       "      <td>-0.640760</td>\n",
       "      <td>0.779626</td>\n",
       "      <td>-0.438121</td>\n",
       "      <td>2.074793</td>\n",
       "    </tr>\n",
       "    <tr>\n",
       "      <th>D</th>\n",
       "      <td>-0.343298</td>\n",
       "      <td>-0.616629</td>\n",
       "      <td>0.763184</td>\n",
       "      <td>0.192917</td>\n",
       "      <td>-0.348459</td>\n",
       "    </tr>\n",
       "  </tbody>\n",
       "</table>\n",
       "</div>"
      ],
      "text/plain": [
       "       satu       dua      tiga     empat      lima\n",
       "A -1.497720 -1.193886  1.296263  0.952276 -1.217254\n",
       "B -0.157265 -1.507585  0.107884  0.747056  0.429676\n",
       "C -1.415043 -0.640760  0.779626 -0.438121  2.074793\n",
       "D -0.343298 -0.616629  0.763184  0.192917 -0.348459"
      ]
     },
     "execution_count": 40,
     "metadata": {},
     "output_type": "execute_result"
    }
   ],
   "source": [
    "dataku"
   ]
  },
  {
   "cell_type": "code",
   "execution_count": 18,
   "id": "74bac4d4-e49d-484f-ac54-ceb6b93ee8bc",
   "metadata": {},
   "outputs": [
    {
     "data": {
      "text/plain": [
       "pandas.core.series.Series"
      ]
     },
     "execution_count": 18,
     "metadata": {},
     "output_type": "execute_result"
    }
   ],
   "source": [
    "type(dataku['dua'])"
   ]
  },
  {
   "cell_type": "code",
   "execution_count": 19,
   "id": "801cde73-8b36-4f8d-9457-e5277dcd0a84",
   "metadata": {},
   "outputs": [],
   "source": [
    "#iloc loc"
   ]
  },
  {
   "cell_type": "code",
   "execution_count": 58,
   "id": "93602b6a-8646-4a24-b9c4-84300486c0b0",
   "metadata": {},
   "outputs": [],
   "source": [
    "dataku['baru'] = dataku['empat'] + dataku['lima']\n"
   ]
  },
  {
   "cell_type": "code",
   "execution_count": 59,
   "id": "a79828ff-9c7a-4957-bd79-623dc79ef747",
   "metadata": {},
   "outputs": [
    {
     "data": {
      "text/html": [
       "<div>\n",
       "<style scoped>\n",
       "    .dataframe tbody tr th:only-of-type {\n",
       "        vertical-align: middle;\n",
       "    }\n",
       "\n",
       "    .dataframe tbody tr th {\n",
       "        vertical-align: top;\n",
       "    }\n",
       "\n",
       "    .dataframe thead th {\n",
       "        text-align: right;\n",
       "    }\n",
       "</style>\n",
       "<table border=\"1\" class=\"dataframe\">\n",
       "  <thead>\n",
       "    <tr style=\"text-align: right;\">\n",
       "      <th></th>\n",
       "      <th>satu</th>\n",
       "      <th>dua</th>\n",
       "      <th>tiga</th>\n",
       "      <th>empat</th>\n",
       "      <th>lima</th>\n",
       "      <th>baru</th>\n",
       "    </tr>\n",
       "  </thead>\n",
       "  <tbody>\n",
       "    <tr>\n",
       "      <th>A</th>\n",
       "      <td>-1.497720</td>\n",
       "      <td>-1.193886</td>\n",
       "      <td>1.296263</td>\n",
       "      <td>0.952276</td>\n",
       "      <td>-1.217254</td>\n",
       "      <td>-0.264979</td>\n",
       "    </tr>\n",
       "    <tr>\n",
       "      <th>B</th>\n",
       "      <td>-0.157265</td>\n",
       "      <td>-1.507585</td>\n",
       "      <td>0.107884</td>\n",
       "      <td>0.747056</td>\n",
       "      <td>0.429676</td>\n",
       "      <td>1.176732</td>\n",
       "    </tr>\n",
       "    <tr>\n",
       "      <th>C</th>\n",
       "      <td>-1.415043</td>\n",
       "      <td>-0.640760</td>\n",
       "      <td>0.779626</td>\n",
       "      <td>-0.438121</td>\n",
       "      <td>2.074793</td>\n",
       "      <td>1.636672</td>\n",
       "    </tr>\n",
       "  </tbody>\n",
       "</table>\n",
       "</div>"
      ],
      "text/plain": [
       "       satu       dua      tiga     empat      lima      baru\n",
       "A -1.497720 -1.193886  1.296263  0.952276 -1.217254 -0.264979\n",
       "B -0.157265 -1.507585  0.107884  0.747056  0.429676  1.176732\n",
       "C -1.415043 -0.640760  0.779626 -0.438121  2.074793  1.636672"
      ]
     },
     "execution_count": 59,
     "metadata": {},
     "output_type": "execute_result"
    }
   ],
   "source": [
    "dataku"
   ]
  },
  {
   "cell_type": "code",
   "execution_count": 60,
   "id": "0deac844-4f9d-4d99-86bb-8320094ee1dc",
   "metadata": {},
   "outputs": [],
   "source": [
    "dataku.drop('baru', axis=1, inplace=True) # klo ga disimpen ke variable nanti \n",
    "# ga ke simpen, tpi klo di inplace itu kesimpen sepaham aku\n",
    "# axis jdi satu klo hapus kolom"
   ]
  },
  {
   "cell_type": "code",
   "execution_count": 48,
   "id": "133db416-b3dc-4860-9bf9-4c50174e57aa",
   "metadata": {},
   "outputs": [
    {
     "data": {
      "text/html": [
       "<div>\n",
       "<style scoped>\n",
       "    .dataframe tbody tr th:only-of-type {\n",
       "        vertical-align: middle;\n",
       "    }\n",
       "\n",
       "    .dataframe tbody tr th {\n",
       "        vertical-align: top;\n",
       "    }\n",
       "\n",
       "    .dataframe thead th {\n",
       "        text-align: right;\n",
       "    }\n",
       "</style>\n",
       "<table border=\"1\" class=\"dataframe\">\n",
       "  <thead>\n",
       "    <tr style=\"text-align: right;\">\n",
       "      <th></th>\n",
       "      <th>satu</th>\n",
       "      <th>dua</th>\n",
       "      <th>tiga</th>\n",
       "      <th>empat</th>\n",
       "      <th>lima</th>\n",
       "    </tr>\n",
       "  </thead>\n",
       "  <tbody>\n",
       "    <tr>\n",
       "      <th>A</th>\n",
       "      <td>-1.497720</td>\n",
       "      <td>-1.193886</td>\n",
       "      <td>1.296263</td>\n",
       "      <td>0.952276</td>\n",
       "      <td>-1.217254</td>\n",
       "    </tr>\n",
       "    <tr>\n",
       "      <th>B</th>\n",
       "      <td>-0.157265</td>\n",
       "      <td>-1.507585</td>\n",
       "      <td>0.107884</td>\n",
       "      <td>0.747056</td>\n",
       "      <td>0.429676</td>\n",
       "    </tr>\n",
       "    <tr>\n",
       "      <th>C</th>\n",
       "      <td>-1.415043</td>\n",
       "      <td>-0.640760</td>\n",
       "      <td>0.779626</td>\n",
       "      <td>-0.438121</td>\n",
       "      <td>2.074793</td>\n",
       "    </tr>\n",
       "    <tr>\n",
       "      <th>D</th>\n",
       "      <td>-0.343298</td>\n",
       "      <td>-0.616629</td>\n",
       "      <td>0.763184</td>\n",
       "      <td>0.192917</td>\n",
       "      <td>-0.348459</td>\n",
       "    </tr>\n",
       "  </tbody>\n",
       "</table>\n",
       "</div>"
      ],
      "text/plain": [
       "       satu       dua      tiga     empat      lima\n",
       "A -1.497720 -1.193886  1.296263  0.952276 -1.217254\n",
       "B -0.157265 -1.507585  0.107884  0.747056  0.429676\n",
       "C -1.415043 -0.640760  0.779626 -0.438121  2.074793\n",
       "D -0.343298 -0.616629  0.763184  0.192917 -0.348459"
      ]
     },
     "execution_count": 48,
     "metadata": {},
     "output_type": "execute_result"
    }
   ],
   "source": [
    "dataku"
   ]
  },
  {
   "cell_type": "code",
   "execution_count": 54,
   "id": "8fd8b85a-0a15-4b05-876d-dd6ab4851589",
   "metadata": {},
   "outputs": [],
   "source": [
    "dataku.drop('D', axis=0, inplace=True)   # axis jdi 0 klo buat hapus rows\n"
   ]
  },
  {
   "cell_type": "code",
   "execution_count": 55,
   "id": "d3cbfe7c-d300-4081-ae18-42d95360bde2",
   "metadata": {},
   "outputs": [
    {
     "data": {
      "text/html": [
       "<div>\n",
       "<style scoped>\n",
       "    .dataframe tbody tr th:only-of-type {\n",
       "        vertical-align: middle;\n",
       "    }\n",
       "\n",
       "    .dataframe tbody tr th {\n",
       "        vertical-align: top;\n",
       "    }\n",
       "\n",
       "    .dataframe thead th {\n",
       "        text-align: right;\n",
       "    }\n",
       "</style>\n",
       "<table border=\"1\" class=\"dataframe\">\n",
       "  <thead>\n",
       "    <tr style=\"text-align: right;\">\n",
       "      <th></th>\n",
       "      <th>satu</th>\n",
       "      <th>dua</th>\n",
       "      <th>tiga</th>\n",
       "      <th>empat</th>\n",
       "      <th>lima</th>\n",
       "    </tr>\n",
       "  </thead>\n",
       "  <tbody>\n",
       "    <tr>\n",
       "      <th>A</th>\n",
       "      <td>-1.497720</td>\n",
       "      <td>-1.193886</td>\n",
       "      <td>1.296263</td>\n",
       "      <td>0.952276</td>\n",
       "      <td>-1.217254</td>\n",
       "    </tr>\n",
       "    <tr>\n",
       "      <th>B</th>\n",
       "      <td>-0.157265</td>\n",
       "      <td>-1.507585</td>\n",
       "      <td>0.107884</td>\n",
       "      <td>0.747056</td>\n",
       "      <td>0.429676</td>\n",
       "    </tr>\n",
       "    <tr>\n",
       "      <th>C</th>\n",
       "      <td>-1.415043</td>\n",
       "      <td>-0.640760</td>\n",
       "      <td>0.779626</td>\n",
       "      <td>-0.438121</td>\n",
       "      <td>2.074793</td>\n",
       "    </tr>\n",
       "  </tbody>\n",
       "</table>\n",
       "</div>"
      ],
      "text/plain": [
       "       satu       dua      tiga     empat      lima\n",
       "A -1.497720 -1.193886  1.296263  0.952276 -1.217254\n",
       "B -0.157265 -1.507585  0.107884  0.747056  0.429676\n",
       "C -1.415043 -0.640760  0.779626 -0.438121  2.074793"
      ]
     },
     "execution_count": 55,
     "metadata": {},
     "output_type": "execute_result"
    }
   ],
   "source": [
    "dataku"
   ]
  },
  {
   "cell_type": "code",
   "execution_count": 61,
   "id": "7631ee0c-8b0c-4e1a-bce3-3fd559c1893d",
   "metadata": {},
   "outputs": [
    {
     "data": {
      "text/plain": [
       "(3, 5)"
      ]
     },
     "execution_count": 61,
     "metadata": {},
     "output_type": "execute_result"
    }
   ],
   "source": [
    "dataku.shape"
   ]
  },
  {
   "cell_type": "code",
   "execution_count": 63,
   "id": "8e4765cf-9420-4682-8637-78ffd8301dad",
   "metadata": {},
   "outputs": [],
   "source": [
    "dataku_bol = dataku < 0 #buat liat data negatif atau positif atau di liat ke bool"
   ]
  },
  {
   "cell_type": "code",
   "execution_count": 65,
   "id": "1cee916f-d921-40dd-9e18-9bb39ec4d593",
   "metadata": {},
   "outputs": [
    {
     "data": {
      "text/html": [
       "<div>\n",
       "<style scoped>\n",
       "    .dataframe tbody tr th:only-of-type {\n",
       "        vertical-align: middle;\n",
       "    }\n",
       "\n",
       "    .dataframe tbody tr th {\n",
       "        vertical-align: top;\n",
       "    }\n",
       "\n",
       "    .dataframe thead th {\n",
       "        text-align: right;\n",
       "    }\n",
       "</style>\n",
       "<table border=\"1\" class=\"dataframe\">\n",
       "  <thead>\n",
       "    <tr style=\"text-align: right;\">\n",
       "      <th></th>\n",
       "      <th>satu</th>\n",
       "      <th>dua</th>\n",
       "      <th>tiga</th>\n",
       "      <th>empat</th>\n",
       "      <th>lima</th>\n",
       "    </tr>\n",
       "  </thead>\n",
       "  <tbody>\n",
       "    <tr>\n",
       "      <th>A</th>\n",
       "      <td>True</td>\n",
       "      <td>True</td>\n",
       "      <td>False</td>\n",
       "      <td>False</td>\n",
       "      <td>True</td>\n",
       "    </tr>\n",
       "    <tr>\n",
       "      <th>B</th>\n",
       "      <td>True</td>\n",
       "      <td>True</td>\n",
       "      <td>False</td>\n",
       "      <td>False</td>\n",
       "      <td>False</td>\n",
       "    </tr>\n",
       "    <tr>\n",
       "      <th>C</th>\n",
       "      <td>True</td>\n",
       "      <td>True</td>\n",
       "      <td>False</td>\n",
       "      <td>True</td>\n",
       "      <td>False</td>\n",
       "    </tr>\n",
       "  </tbody>\n",
       "</table>\n",
       "</div>"
      ],
      "text/plain": [
       "   satu   dua   tiga  empat   lima\n",
       "A  True  True  False  False   True\n",
       "B  True  True  False  False  False\n",
       "C  True  True  False   True  False"
      ]
     },
     "execution_count": 65,
     "metadata": {},
     "output_type": "execute_result"
    }
   ],
   "source": [
    "dataku_bol # data nya jadi boolean"
   ]
  },
  {
   "cell_type": "code",
   "execution_count": 68,
   "id": "2bccd331-2558-49f3-ad11-c63ae04efcc8",
   "metadata": {},
   "outputs": [
    {
     "data": {
      "text/html": [
       "<div>\n",
       "<style scoped>\n",
       "    .dataframe tbody tr th:only-of-type {\n",
       "        vertical-align: middle;\n",
       "    }\n",
       "\n",
       "    .dataframe tbody tr th {\n",
       "        vertical-align: top;\n",
       "    }\n",
       "\n",
       "    .dataframe thead th {\n",
       "        text-align: right;\n",
       "    }\n",
       "</style>\n",
       "<table border=\"1\" class=\"dataframe\">\n",
       "  <thead>\n",
       "    <tr style=\"text-align: right;\">\n",
       "      <th></th>\n",
       "      <th>satu</th>\n",
       "      <th>dua</th>\n",
       "      <th>tiga</th>\n",
       "      <th>empat</th>\n",
       "      <th>lima</th>\n",
       "    </tr>\n",
       "  </thead>\n",
       "  <tbody>\n",
       "    <tr>\n",
       "      <th>A</th>\n",
       "      <td>-1.497720</td>\n",
       "      <td>-1.193886</td>\n",
       "      <td>NaN</td>\n",
       "      <td>NaN</td>\n",
       "      <td>-1.217254</td>\n",
       "    </tr>\n",
       "    <tr>\n",
       "      <th>B</th>\n",
       "      <td>-0.157265</td>\n",
       "      <td>-1.507585</td>\n",
       "      <td>NaN</td>\n",
       "      <td>NaN</td>\n",
       "      <td>NaN</td>\n",
       "    </tr>\n",
       "    <tr>\n",
       "      <th>C</th>\n",
       "      <td>-1.415043</td>\n",
       "      <td>-0.640760</td>\n",
       "      <td>NaN</td>\n",
       "      <td>-0.438121</td>\n",
       "      <td>NaN</td>\n",
       "    </tr>\n",
       "  </tbody>\n",
       "</table>\n",
       "</div>"
      ],
      "text/plain": [
       "       satu       dua  tiga     empat      lima\n",
       "A -1.497720 -1.193886   NaN       NaN -1.217254\n",
       "B -0.157265 -1.507585   NaN       NaN       NaN\n",
       "C -1.415043 -0.640760   NaN -0.438121       NaN"
      ]
     },
     "execution_count": 68,
     "metadata": {},
     "output_type": "execute_result"
    }
   ],
   "source": [
    "dataku[dataku_bol] # yg kurang dri 0, bakal tampil, tpi yg lebih jdi NaN"
   ]
  },
  {
   "cell_type": "code",
   "execution_count": 79,
   "id": "d6863f8b-fd82-4c96-8385-ea8d0f441d80",
   "metadata": {},
   "outputs": [],
   "source": [
    "dataku = pd.DataFrame(np.random.randn(4,5), ['A','B','C','D'],['satu','dua','tiga','empat','lima'])\n"
   ]
  },
  {
   "cell_type": "code",
   "execution_count": 80,
   "id": "e4c704f5-450a-4fce-a3ff-f482ce4e7696",
   "metadata": {},
   "outputs": [
    {
     "data": {
      "text/html": [
       "<div>\n",
       "<style scoped>\n",
       "    .dataframe tbody tr th:only-of-type {\n",
       "        vertical-align: middle;\n",
       "    }\n",
       "\n",
       "    .dataframe tbody tr th {\n",
       "        vertical-align: top;\n",
       "    }\n",
       "\n",
       "    .dataframe thead th {\n",
       "        text-align: right;\n",
       "    }\n",
       "</style>\n",
       "<table border=\"1\" class=\"dataframe\">\n",
       "  <thead>\n",
       "    <tr style=\"text-align: right;\">\n",
       "      <th></th>\n",
       "      <th>satu</th>\n",
       "      <th>dua</th>\n",
       "      <th>tiga</th>\n",
       "      <th>empat</th>\n",
       "      <th>lima</th>\n",
       "    </tr>\n",
       "  </thead>\n",
       "  <tbody>\n",
       "    <tr>\n",
       "      <th>A</th>\n",
       "      <td>1.775994</td>\n",
       "      <td>0.513074</td>\n",
       "      <td>1.170527</td>\n",
       "      <td>2.077712</td>\n",
       "      <td>-0.455922</td>\n",
       "    </tr>\n",
       "    <tr>\n",
       "      <th>B</th>\n",
       "      <td>0.649173</td>\n",
       "      <td>-0.174782</td>\n",
       "      <td>1.017264</td>\n",
       "      <td>-0.599983</td>\n",
       "      <td>1.576167</td>\n",
       "    </tr>\n",
       "    <tr>\n",
       "      <th>C</th>\n",
       "      <td>0.604424</td>\n",
       "      <td>-0.907030</td>\n",
       "      <td>0.592023</td>\n",
       "      <td>-0.437064</td>\n",
       "      <td>0.101776</td>\n",
       "    </tr>\n",
       "    <tr>\n",
       "      <th>D</th>\n",
       "      <td>1.308347</td>\n",
       "      <td>1.387602</td>\n",
       "      <td>-1.735391</td>\n",
       "      <td>0.288377</td>\n",
       "      <td>-0.339085</td>\n",
       "    </tr>\n",
       "  </tbody>\n",
       "</table>\n",
       "</div>"
      ],
      "text/plain": [
       "       satu       dua      tiga     empat      lima\n",
       "A  1.775994  0.513074  1.170527  2.077712 -0.455922\n",
       "B  0.649173 -0.174782  1.017264 -0.599983  1.576167\n",
       "C  0.604424 -0.907030  0.592023 -0.437064  0.101776\n",
       "D  1.308347  1.387602 -1.735391  0.288377 -0.339085"
      ]
     },
     "execution_count": 80,
     "metadata": {},
     "output_type": "execute_result"
    }
   ],
   "source": [
    "dataku"
   ]
  },
  {
   "cell_type": "code",
   "execution_count": 87,
   "id": "38a6f850-ab2e-4a5e-8890-383c58ef05af",
   "metadata": {},
   "outputs": [
    {
     "data": {
      "text/html": [
       "<div>\n",
       "<style scoped>\n",
       "    .dataframe tbody tr th:only-of-type {\n",
       "        vertical-align: middle;\n",
       "    }\n",
       "\n",
       "    .dataframe tbody tr th {\n",
       "        vertical-align: top;\n",
       "    }\n",
       "\n",
       "    .dataframe thead th {\n",
       "        text-align: right;\n",
       "    }\n",
       "</style>\n",
       "<table border=\"1\" class=\"dataframe\">\n",
       "  <thead>\n",
       "    <tr style=\"text-align: right;\">\n",
       "      <th></th>\n",
       "      <th>satu</th>\n",
       "      <th>dua</th>\n",
       "      <th>tiga</th>\n",
       "      <th>empat</th>\n",
       "      <th>lima</th>\n",
       "    </tr>\n",
       "  </thead>\n",
       "  <tbody>\n",
       "    <tr>\n",
       "      <th>A</th>\n",
       "      <td>1.775994</td>\n",
       "      <td>0.513074</td>\n",
       "      <td>1.170527</td>\n",
       "      <td>2.077712</td>\n",
       "      <td>-0.455922</td>\n",
       "    </tr>\n",
       "    <tr>\n",
       "      <th>B</th>\n",
       "      <td>0.649173</td>\n",
       "      <td>-0.174782</td>\n",
       "      <td>1.017264</td>\n",
       "      <td>-0.599983</td>\n",
       "      <td>1.576167</td>\n",
       "    </tr>\n",
       "    <tr>\n",
       "      <th>C</th>\n",
       "      <td>0.604424</td>\n",
       "      <td>-0.907030</td>\n",
       "      <td>0.592023</td>\n",
       "      <td>-0.437064</td>\n",
       "      <td>0.101776</td>\n",
       "    </tr>\n",
       "  </tbody>\n",
       "</table>\n",
       "</div>"
      ],
      "text/plain": [
       "       satu       dua      tiga     empat      lima\n",
       "A  1.775994  0.513074  1.170527  2.077712 -0.455922\n",
       "B  0.649173 -0.174782  1.017264 -0.599983  1.576167\n",
       "C  0.604424 -0.907030  0.592023 -0.437064  0.101776"
      ]
     },
     "execution_count": 87,
     "metadata": {},
     "output_type": "execute_result"
    }
   ],
   "source": [
    "dataku[dataku['tiga']>0] # jdi di kolom 3 cuma menampilkan yg lebih dri 0"
   ]
  },
  {
   "cell_type": "code",
   "execution_count": 88,
   "id": "9d153576-baaa-4012-8824-bfbe357072a1",
   "metadata": {},
   "outputs": [],
   "source": [
    "hasil = dataku[dataku['lima']>0] # di kolom ke lima yg datanya lebih dri 0"
   ]
  },
  {
   "cell_type": "code",
   "execution_count": 89,
   "id": "3ce5ed9b-2e97-4d33-af40-d4fde10dffe4",
   "metadata": {},
   "outputs": [
    {
     "data": {
      "text/html": [
       "<div>\n",
       "<style scoped>\n",
       "    .dataframe tbody tr th:only-of-type {\n",
       "        vertical-align: middle;\n",
       "    }\n",
       "\n",
       "    .dataframe tbody tr th {\n",
       "        vertical-align: top;\n",
       "    }\n",
       "\n",
       "    .dataframe thead th {\n",
       "        text-align: right;\n",
       "    }\n",
       "</style>\n",
       "<table border=\"1\" class=\"dataframe\">\n",
       "  <thead>\n",
       "    <tr style=\"text-align: right;\">\n",
       "      <th></th>\n",
       "      <th>satu</th>\n",
       "      <th>dua</th>\n",
       "      <th>tiga</th>\n",
       "      <th>empat</th>\n",
       "      <th>lima</th>\n",
       "    </tr>\n",
       "  </thead>\n",
       "  <tbody>\n",
       "    <tr>\n",
       "      <th>B</th>\n",
       "      <td>0.649173</td>\n",
       "      <td>-0.174782</td>\n",
       "      <td>1.017264</td>\n",
       "      <td>-0.599983</td>\n",
       "      <td>1.576167</td>\n",
       "    </tr>\n",
       "    <tr>\n",
       "      <th>C</th>\n",
       "      <td>0.604424</td>\n",
       "      <td>-0.907030</td>\n",
       "      <td>0.592023</td>\n",
       "      <td>-0.437064</td>\n",
       "      <td>0.101776</td>\n",
       "    </tr>\n",
       "  </tbody>\n",
       "</table>\n",
       "</div>"
      ],
      "text/plain": [
       "       satu       dua      tiga     empat      lima\n",
       "B  0.649173 -0.174782  1.017264 -0.599983  1.576167\n",
       "C  0.604424 -0.907030  0.592023 -0.437064  0.101776"
      ]
     },
     "execution_count": 89,
     "metadata": {},
     "output_type": "execute_result"
    }
   ],
   "source": [
    "hasil"
   ]
  },
  {
   "cell_type": "code",
   "execution_count": null,
   "id": "988824d8-2290-438c-a446-2ec06eb2c6d4",
   "metadata": {},
   "outputs": [],
   "source": []
  }
 ],
 "metadata": {
  "kernelspec": {
   "display_name": "Python 3 (ipykernel)",
   "language": "python",
   "name": "python3"
  },
  "language_info": {
   "codemirror_mode": {
    "name": "ipython",
    "version": 3
   },
   "file_extension": ".py",
   "mimetype": "text/x-python",
   "name": "python",
   "nbconvert_exporter": "python",
   "pygments_lexer": "ipython3",
   "version": "3.11.4"
  }
 },
 "nbformat": 4,
 "nbformat_minor": 5
}
